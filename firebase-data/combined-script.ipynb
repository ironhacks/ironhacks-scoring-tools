{
 "cells": [
  {
   "cell_type": "code",
   "execution_count": null,
   "metadata": {},
   "outputs": [],
   "source": [
    "!python -m pip install firebase_admin\n",
    "import firebase_admin\n",
    "from firebase_admin import credentials, firestore\n",
    "\n",
    "cred = credentials.Certificate('firebase-key.json')\n",
    "default_app = firebase_admin.initialize_app(cred)\n",
    "db = firestore.client()\n",
    "\n",
    "#doc_ref = db.collection(u'users').document(u'0x1z05senFY8At3MiQHOt7h2lZc2')\n",
    "\n",
    "doc_ref = db.collection(u'hacks').document(u'DeKE13nHvqzolDUa0Fg9').collection(u'registration').document(u'participants')\n",
    "#print(docs)\n",
    "#results = docs.where('email', '==', '*.gmail.com').get()\n",
    "#print(results)\n",
    "#docs = db.collection(u'cities').stream()\n",
    "\n",
    "#for doc in docs:\n",
    "#    print(f'{doc.id} => {doc.to_dict()}')\n",
    "try:\n",
    "   doc = doc_ref.get()\n",
    "except google.cloud.exceptions.NotFound:\n",
    "   print(u'error file!')"
   ]
  },
  {
   "cell_type": "code",
   "execution_count": null,
   "metadata": {},
   "outputs": [],
   "source": [
    "# import firebase_admin\n",
    "# from firebase_admin import credentials, firestore\n",
    "\n",
    "# cred = credentials.Certificate('firebase-key.json')\n",
    "# default_app = firebase_admin.initialize_app(cred)\n",
    "# db = firestore.client()\n",
    "\n",
    "#doc_ref = db.collection(u'users').document(u'0x1z05senFY8At3MiQHOt7h2lZc2')\n",
    "\n",
    "docs = db.collection(u'users').stream()\n",
    "\n",
    "#results = docs.where('email', '==', '*.gmail.com').get()\n",
    "#print(results)\n",
    "#docs = db.collection(u'cities').stream()\n",
    "\n",
    "# for doc in docs:\n",
    "#     print(f'{doc.id} => {doc.to_dict()}')\n",
    "#try:\n",
    "#   doc = doc_ref.get()\n",
    "#   print(u'Document data: {}'.format(doc.to_dict()))\n",
    "#except google.cloud.exceptions.NotFound:\n",
    "#   print(u'error file!')"
   ]
  },
  {
   "cell_type": "code",
   "execution_count": null,
   "metadata": {},
   "outputs": [],
   "source": [
    "with open('out.txt', 'w') as f:\n",
    "    print('Filename:', doc, file=f)"
   ]
  },
  {
   "cell_type": "code",
   "execution_count": null,
   "metadata": {},
   "outputs": [],
   "source": [
    "cut -c33- OUTPUT-FILE-NAME-FIREBASE"
   ]
  },
  {
   "cell_type": "code",
   "execution_count": null,
   "metadata": {},
   "outputs": [],
   "source": [
    "f = open('output.json', 'r')\n",
    "s = f.read().strip()\n",
    "l = eval(s)\n",
    "import pprint\n",
    "import json"
   ]
  },
  {
   "cell_type": "code",
   "execution_count": null,
   "metadata": {},
   "outputs": [],
   "source": [
    "import json\n",
    "\n",
    "with open('output.json') as f:\n",
    "  data = json.load(f)\n",
    "\n",
    "print(data)\n",
    "\n",
    "for key,value in data.items():\n",
    "  print(value)"
   ]
  },
  {
   "cell_type": "code",
   "execution_count": null,
   "metadata": {},
   "outputs": [],
   "source": [
    "install google.cloud\n",
    "!python3 -m pip install pandas\n",
    "from google.cloud import bigquery\n",
    "from google.oauth2 import service_account\n",
    "from google.cloud.bigquery import magics\n",
    "import os\n",
    "import pandas as pd\n",
    "import pprint"
   ]
  },
  {
   "cell_type": "code",
   "execution_count": null,
   "metadata": {},
   "outputs": [],
   "source": [
    "os.environ['GOOGLE_APPLICATION_CREDENTIALS'] ='/home/jovyan/big-query-key.json'\n",
    "bigquery_client = bigquery.Client(project='ironhacks-covid19-data')\n",
    "bigquery_client\n",
    "bigquery_client = bigquery.Client()\n",
    "\n",
    "QUERY = \"\"\"\n",
    "SELECT\n",
    "   DISTINCT(user_email) AS user\n",
    " FROM\n",
    "   `region-us`.INFORMATION_SCHEMA.JOBS_BY_PROJECT\n",
    " WHERE\n",
    "   job_type = \"QUERY\"\n",
    "\"\"\"\n",
    "\n",
    "query_job = bigquery_client.query(QUERY)\n",
    "!python3 -m pip install pandas\n",
    "import pandas as pd\n",
    "pandas.options.display.max_rows\n",
    "data = query_job.to_dataframe()\n",
    "pd.set_option('display.max_rows', None)\n",
    "# print(data)\n",
    "# data.head()"
   ]
  }
 ],
 "metadata": {
  "kernelspec": {
   "display_name": "Python 3",
   "language": "python",
   "name": "python3"
  },
  "language_info": {
   "codemirror_mode": {
    "name": "ipython",
    "version": 2
   },
   "file_extension": ".py",
   "mimetype": "text/x-python",
   "name": "python",
   "nbconvert_exporter": "python",
   "pygments_lexer": "ipython2",
   "version": "2.7.17"
  }
 },
 "nbformat": 4,
 "nbformat_minor": 4
}
