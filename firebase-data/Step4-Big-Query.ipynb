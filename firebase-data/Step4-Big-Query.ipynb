{
 "cells": [
  {
   "cell_type": "code",
   "execution_count": null,
   "metadata": {
    "scrolled": true
   },
   "outputs": [],
   "source": [
    "install google.cloud\n",
    "!python3 -m pip install pandas\n",
    "from google.cloud import bigquery\n",
    "from google.oauth2 import service_account\n",
    "from google.cloud.bigquery import magics\n",
    "import os\n",
    "import pandas as pd\n",
    "import pprint"
   ]
  },
  {
   "cell_type": "code",
   "execution_count": null,
   "metadata": {
    "scrolled": true
   },
   "outputs": [],
   "source": [
    "os.environ['GOOGLE_APPLICATION_CREDENTIALS'] ='/Users/sbrunswi/automation-user-analysis/admin-bigquery-key.json'\n",
    "bigquery_client = bigquery.Client(project='ironhacks-covid19-data')\n",
    "bigquery_client\n",
    "bigquery_client = bigquery.Client()\n",
    "\n",
    "QUERY = \"\"\"\n",
    "SELECT\n",
    "   DISTINCT(user_email) AS user\n",
    " FROM\n",
    "   `region-us`.INFORMATION_SCHEMA.JOBS_BY_PROJECT\n",
    " WHERE\n",
    "   job_type = \"QUERY\"\n",
    "\"\"\"\n",
    "\n",
    "query_job = bigquery_client.query(QUERY)\n",
    "!python3 -m pip install pandas\n",
    "import pandas as pd\n",
    "pandas.options.display.max_rows\n",
    "data = query_job.to_dataframe()\n",
    "pd.set_option('display.max_rows', None)\n",
    "# print(data)\n",
    "# data.head()"
   ]
  },
  {
   "cell_type": "code",
   "execution_count": null,
   "metadata": {
    "scrolled": true
   },
   "outputs": [],
   "source": [
    "pwd"
   ]
  },
  {
   "cell_type": "code",
   "execution_count": null,
   "metadata": {
    "scrolled": true
   },
   "outputs": [],
   "source": [
    "!python3 -m pip install google.cloud"
   ]
  }
 ],
 "metadata": {
  "kernelspec": {
   "display_name": "Python 3",
   "language": "python",
   "name": "python3"
  },
  "language_info": {
   "codemirror_mode": {
    "name": "ipython",
    "version": 2
   },
   "file_extension": ".py",
   "mimetype": "text/x-python",
   "name": "python",
   "nbconvert_exporter": "python",
   "pygments_lexer": "ipython2",
   "version": "2.7.17"
  }
 },
 "nbformat": 4,
 "nbformat_minor": 4
}
