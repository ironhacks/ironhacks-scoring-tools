{
 "cells": [
  {
   "cell_type": "code",
   "execution_count": null,
   "metadata": {},
   "outputs": [],
   "source": [
    "!python -m pip install firebase_admin\n",
    "import firebase_admin\n",
    "from firebase_admin import credentials, firestore\n",
    "\n",
    "cred = credentials.Certificate('firebase-key.json')\n",
    "default_app = firebase_admin.initialize_app(cred)\n",
    "db = firestore.client()\n",
    "\n",
    "#doc_ref = db.collection(u'users').document(u'0x1z05senFY8At3MiQHOt7h2lZc2')\n",
    "\n",
    "doc_ref = db.collection(u'hacks').document(u'DeKE13nHvqzolDUa0Fg9').collection(u'registration').document(u'participants')\n",
    "#print(docs)\n",
    "#results = docs.where('email', '==', '*.gmail.com').get()\n",
    "#print(results)\n",
    "#docs = db.collection(u'cities').stream()\n",
    "\n",
    "#for doc in docs:\n",
    "#    print(f'{doc.id} => {doc.to_dict()}')\n",
    "try:\n",
    "   doc = doc_ref.get()\n",
    "#    print(u'Document data: {}'.format(doc.to_dict()))\n",
    "except google.cloud.exceptions.NotFound:\n",
    "   print(u'error file!')\n"
   ]
  },
  {
   "cell_type": "code",
   "execution_count": null,
   "metadata": {},
   "outputs": [],
   "source": []
  }
 ],
 "metadata": {
  "kernelspec": {
   "display_name": "Python 3",
   "language": "python",
   "name": "python3"
  },
  "language_info": {
   "codemirror_mode": {
    "name": "ipython",
    "version": 2
   },
   "file_extension": ".py",
   "mimetype": "text/x-python",
   "name": "python",
   "nbconvert_exporter": "python",
   "pygments_lexer": "ipython2",
   "version": "2.7.17"
  }
 },
 "nbformat": 4,
 "nbformat_minor": 4
}
