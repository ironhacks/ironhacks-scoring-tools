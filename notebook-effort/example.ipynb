{
 "cells": [
  {
   "cell_type": "markdown",
   "metadata": {},
   "source": [
    "We are to predict the the weekly number of visits at key brands in Indiana (var_name: sum_visit_count).\n",
    "First begin by visualizing the data to notice trends and relationships."
   ]
  },
  {
   "cell_type": "code",
   "execution_count": 260,
   "metadata": {},
   "outputs": [],
   "source": [
    "import os\n",
    "import pandas\n",
    "import numpy as np\n",
    "from google.cloud import bigquery\n",
    "from google.oauth2 import service_account\n",
    "from google.cloud.bigquery import magics"
   ]
  },
  {
   "cell_type": "code",
   "execution_count": 332,
   "metadata": {},
   "outputs": [
    {
     "data": {
      "text/html": [
       "<div>\n",
       "<style scoped>\n",
       "    .dataframe tbody tr th:only-of-type {\n",
       "        vertical-align: middle;\n",
       "    }\n",
       "\n",
       "    .dataframe tbody tr th {\n",
       "        vertical-align: top;\n",
       "    }\n",
       "\n",
       "    .dataframe thead th {\n",
       "        text-align: right;\n",
       "    }\n",
       "</style>\n",
       "<table border=\"1\" class=\"dataframe\">\n",
       "  <thead>\n",
       "    <tr style=\"text-align: right;\">\n",
       "      <th></th>\n",
       "      <th>uuid</th>\n",
       "      <th>brand_name</th>\n",
       "      <th>naics</th>\n",
       "      <th>top_category</th>\n",
       "      <th>week_number</th>\n",
       "      <th>date_start</th>\n",
       "      <th>nr_POIs</th>\n",
       "      <th>cards_per_week</th>\n",
       "      <th>transactions_per_week</th>\n",
       "      <th>total_spent_per_week</th>\n",
       "      <th>avg_distance_from_home</th>\n",
       "      <th>sd_distance_from_home</th>\n",
       "      <th>avg_median_dwell</th>\n",
       "      <th>sd_median_dwell</th>\n",
       "      <th>sum_visit_counts</th>\n",
       "    </tr>\n",
       "  </thead>\n",
       "  <tbody>\n",
       "    <tr>\n",
       "      <th>0</th>\n",
       "      <td>15329284-0578-4bd0-802b-2321ac716020</td>\n",
       "      <td>7-Eleven</td>\n",
       "      <td>445120</td>\n",
       "      <td>Grocery Stores</td>\n",
       "      <td>10</td>\n",
       "      <td>2020-03-09</td>\n",
       "      <td>28</td>\n",
       "      <td>8649</td>\n",
       "      <td>10924</td>\n",
       "      <td>324452.92</td>\n",
       "      <td>5139</td>\n",
       "      <td>4801</td>\n",
       "      <td>10</td>\n",
       "      <td>10</td>\n",
       "      <td>1492</td>\n",
       "    </tr>\n",
       "    <tr>\n",
       "      <th>1</th>\n",
       "      <td>361ae199-51e7-4dbf-a699-248f51bd7b73</td>\n",
       "      <td>A&amp;W Restaurants</td>\n",
       "      <td>722511</td>\n",
       "      <td>Restaurants and Other Eating Places</td>\n",
       "      <td>10</td>\n",
       "      <td>2020-03-09</td>\n",
       "      <td>8</td>\n",
       "      <td>31</td>\n",
       "      <td>32</td>\n",
       "      <td>333.64</td>\n",
       "      <td>9018</td>\n",
       "      <td>2597</td>\n",
       "      <td>20</td>\n",
       "      <td>5</td>\n",
       "      <td>235</td>\n",
       "    </tr>\n",
       "    <tr>\n",
       "      <th>2</th>\n",
       "      <td>bd4d1f13-5d85-4302-9965-a10bf959d429</td>\n",
       "      <td>ALDI</td>\n",
       "      <td>445110</td>\n",
       "      <td>Grocery Stores</td>\n",
       "      <td>10</td>\n",
       "      <td>2020-03-09</td>\n",
       "      <td>82</td>\n",
       "      <td>4992</td>\n",
       "      <td>5195</td>\n",
       "      <td>226672.35</td>\n",
       "      <td>7815</td>\n",
       "      <td>3814</td>\n",
       "      <td>19</td>\n",
       "      <td>3</td>\n",
       "      <td>14474</td>\n",
       "    </tr>\n",
       "    <tr>\n",
       "      <th>3</th>\n",
       "      <td>2beefcf9-68a4-45f4-bbc2-9018260cc464</td>\n",
       "      <td>Ace Hardware</td>\n",
       "      <td>444130</td>\n",
       "      <td>Building Material and Supplies Dealers</td>\n",
       "      <td>10</td>\n",
       "      <td>2020-03-09</td>\n",
       "      <td>67</td>\n",
       "      <td>590</td>\n",
       "      <td>625</td>\n",
       "      <td>12805.75</td>\n",
       "      <td>6575</td>\n",
       "      <td>4299</td>\n",
       "      <td>16</td>\n",
       "      <td>11</td>\n",
       "      <td>3214</td>\n",
       "    </tr>\n",
       "    <tr>\n",
       "      <th>4</th>\n",
       "      <td>b0a148ea-b7eb-4f2c-ae5d-eb6e4e1551fe</td>\n",
       "      <td>Advance Auto Parts</td>\n",
       "      <td>441310</td>\n",
       "      <td>Automotive Parts, Accessories, and Tire Stores</td>\n",
       "      <td>10</td>\n",
       "      <td>2020-03-09</td>\n",
       "      <td>108</td>\n",
       "      <td>1109</td>\n",
       "      <td>1213</td>\n",
       "      <td>52326.62</td>\n",
       "      <td>7553</td>\n",
       "      <td>4536</td>\n",
       "      <td>20</td>\n",
       "      <td>20</td>\n",
       "      <td>4223</td>\n",
       "    </tr>\n",
       "    <tr>\n",
       "      <th>5</th>\n",
       "      <td>b8518988-f48a-434a-bb27-8f2635204ace</td>\n",
       "      <td>Allstate Insurance</td>\n",
       "      <td>524210</td>\n",
       "      <td>Agencies, Brokerages, and Other Insurance Rela...</td>\n",
       "      <td>10</td>\n",
       "      <td>2020-03-09</td>\n",
       "      <td>23</td>\n",
       "      <td>134</td>\n",
       "      <td>162</td>\n",
       "      <td>22427.63</td>\n",
       "      <td>8844</td>\n",
       "      <td>5610</td>\n",
       "      <td>105</td>\n",
       "      <td>223</td>\n",
       "      <td>475</td>\n",
       "    </tr>\n",
       "    <tr>\n",
       "      <th>6</th>\n",
       "      <td>d14551e2-d585-4881-9487-0f1682202627</td>\n",
       "      <td>America's Best Contacts &amp; Eyeglasses</td>\n",
       "      <td>621320</td>\n",
       "      <td>Offices of Other Health Practitioners</td>\n",
       "      <td>10</td>\n",
       "      <td>2020-03-09</td>\n",
       "      <td>3</td>\n",
       "      <td>93</td>\n",
       "      <td>105</td>\n",
       "      <td>12908.05</td>\n",
       "      <td>16748</td>\n",
       "      <td>14506</td>\n",
       "      <td>20</td>\n",
       "      <td>12</td>\n",
       "      <td>41</td>\n",
       "    </tr>\n",
       "    <tr>\n",
       "      <th>7</th>\n",
       "      <td>757664af-ba19-481c-8fdb-ad54d94c0fba</td>\n",
       "      <td>American Eagle Outfitters</td>\n",
       "      <td>448140</td>\n",
       "      <td>Clothing Stores</td>\n",
       "      <td>10</td>\n",
       "      <td>2020-03-09</td>\n",
       "      <td>2</td>\n",
       "      <td>46</td>\n",
       "      <td>46</td>\n",
       "      <td>3411.61</td>\n",
       "      <td>8101</td>\n",
       "      <td>4971</td>\n",
       "      <td>19</td>\n",
       "      <td>8</td>\n",
       "      <td>113</td>\n",
       "    </tr>\n",
       "    <tr>\n",
       "      <th>8</th>\n",
       "      <td>d454dc3e-3458-4801-b7ce-80529f894a2b</td>\n",
       "      <td>Anytime Fitness</td>\n",
       "      <td>713940</td>\n",
       "      <td>Other Amusement and Recreation Industries</td>\n",
       "      <td>10</td>\n",
       "      <td>2020-03-09</td>\n",
       "      <td>100</td>\n",
       "      <td>15</td>\n",
       "      <td>18</td>\n",
       "      <td>877.57</td>\n",
       "      <td>7070</td>\n",
       "      <td>3615</td>\n",
       "      <td>43</td>\n",
       "      <td>12</td>\n",
       "      <td>10046</td>\n",
       "    </tr>\n",
       "    <tr>\n",
       "      <th>9</th>\n",
       "      <td>943fee46-8d9c-4f53-8e3f-c6543509d2bc</td>\n",
       "      <td>Applebee's</td>\n",
       "      <td>722511</td>\n",
       "      <td>Restaurants and Other Eating Places</td>\n",
       "      <td>10</td>\n",
       "      <td>2020-03-09</td>\n",
       "      <td>54</td>\n",
       "      <td>3084</td>\n",
       "      <td>3145</td>\n",
       "      <td>111899.64</td>\n",
       "      <td>9778</td>\n",
       "      <td>3526</td>\n",
       "      <td>47</td>\n",
       "      <td>6</td>\n",
       "      <td>9329</td>\n",
       "    </tr>\n",
       "    <tr>\n",
       "      <th>10</th>\n",
       "      <td>a0648993-891a-4264-99cf-53f542484416</td>\n",
       "      <td>Arby's</td>\n",
       "      <td>722513</td>\n",
       "      <td>Restaurants and Other Eating Places</td>\n",
       "      <td>10</td>\n",
       "      <td>2020-03-09</td>\n",
       "      <td>175</td>\n",
       "      <td>8691</td>\n",
       "      <td>8905</td>\n",
       "      <td>110290.97</td>\n",
       "      <td>17969</td>\n",
       "      <td>53982</td>\n",
       "      <td>13</td>\n",
       "      <td>18</td>\n",
       "      <td>16672</td>\n",
       "    </tr>\n",
       "    <tr>\n",
       "      <th>11</th>\n",
       "      <td>37cb619d-9003-41bb-8a67-0a873d443e32</td>\n",
       "      <td>Au Bon Pain</td>\n",
       "      <td>722513</td>\n",
       "      <td>Restaurants and Other Eating Places</td>\n",
       "      <td>10</td>\n",
       "      <td>2020-03-09</td>\n",
       "      <td>6</td>\n",
       "      <td>64</td>\n",
       "      <td>68</td>\n",
       "      <td>614.89</td>\n",
       "      <td>14008</td>\n",
       "      <td>12460</td>\n",
       "      <td>100</td>\n",
       "      <td>37</td>\n",
       "      <td>4988</td>\n",
       "    </tr>\n",
       "    <tr>\n",
       "      <th>12</th>\n",
       "      <td>f092073e-5dff-4632-a8cf-cca98108d005</td>\n",
       "      <td>Auntie Anne's</td>\n",
       "      <td>722515</td>\n",
       "      <td>Restaurants and Other Eating Places</td>\n",
       "      <td>10</td>\n",
       "      <td>2020-03-09</td>\n",
       "      <td>4</td>\n",
       "      <td>588</td>\n",
       "      <td>609</td>\n",
       "      <td>5285.13</td>\n",
       "      <td>98523</td>\n",
       "      <td>106440</td>\n",
       "      <td>15</td>\n",
       "      <td>9</td>\n",
       "      <td>507</td>\n",
       "    </tr>\n",
       "    <tr>\n",
       "      <th>13</th>\n",
       "      <td>2ea8f648-dc1b-4a49-b04a-0d3152e73566</td>\n",
       "      <td>AutoZone</td>\n",
       "      <td>441310</td>\n",
       "      <td>Automotive Parts, Accessories, and Tire Stores</td>\n",
       "      <td>10</td>\n",
       "      <td>2020-03-09</td>\n",
       "      <td>153</td>\n",
       "      <td>4416</td>\n",
       "      <td>4846</td>\n",
       "      <td>191812.91</td>\n",
       "      <td>7245</td>\n",
       "      <td>3842</td>\n",
       "      <td>14</td>\n",
       "      <td>10</td>\n",
       "      <td>7975</td>\n",
       "    </tr>\n",
       "    <tr>\n",
       "      <th>14</th>\n",
       "      <td>b4400874-2f33-41a0-acbe-894d5a7a3d20</td>\n",
       "      <td>Avis Rent A Car</td>\n",
       "      <td>532111</td>\n",
       "      <td>Automotive Equipment Rental and Leasing</td>\n",
       "      <td>10</td>\n",
       "      <td>2020-03-09</td>\n",
       "      <td>3</td>\n",
       "      <td>21</td>\n",
       "      <td>21</td>\n",
       "      <td>2491.37</td>\n",
       "      <td>12842</td>\n",
       "      <td>4214</td>\n",
       "      <td>22</td>\n",
       "      <td>13</td>\n",
       "      <td>23</td>\n",
       "    </tr>\n",
       "  </tbody>\n",
       "</table>\n",
       "</div>"
      ],
      "text/plain": [
       "                                    uuid  \\\n",
       "0   15329284-0578-4bd0-802b-2321ac716020   \n",
       "1   361ae199-51e7-4dbf-a699-248f51bd7b73   \n",
       "2   bd4d1f13-5d85-4302-9965-a10bf959d429   \n",
       "3   2beefcf9-68a4-45f4-bbc2-9018260cc464   \n",
       "4   b0a148ea-b7eb-4f2c-ae5d-eb6e4e1551fe   \n",
       "5   b8518988-f48a-434a-bb27-8f2635204ace   \n",
       "6   d14551e2-d585-4881-9487-0f1682202627   \n",
       "7   757664af-ba19-481c-8fdb-ad54d94c0fba   \n",
       "8   d454dc3e-3458-4801-b7ce-80529f894a2b   \n",
       "9   943fee46-8d9c-4f53-8e3f-c6543509d2bc   \n",
       "10  a0648993-891a-4264-99cf-53f542484416   \n",
       "11  37cb619d-9003-41bb-8a67-0a873d443e32   \n",
       "12  f092073e-5dff-4632-a8cf-cca98108d005   \n",
       "13  2ea8f648-dc1b-4a49-b04a-0d3152e73566   \n",
       "14  b4400874-2f33-41a0-acbe-894d5a7a3d20   \n",
       "\n",
       "                              brand_name   naics  \\\n",
       "0                               7-Eleven  445120   \n",
       "1                        A&W Restaurants  722511   \n",
       "2                                   ALDI  445110   \n",
       "3                           Ace Hardware  444130   \n",
       "4                     Advance Auto Parts  441310   \n",
       "5                     Allstate Insurance  524210   \n",
       "6   America's Best Contacts & Eyeglasses  621320   \n",
       "7              American Eagle Outfitters  448140   \n",
       "8                        Anytime Fitness  713940   \n",
       "9                             Applebee's  722511   \n",
       "10                                Arby's  722513   \n",
       "11                           Au Bon Pain  722513   \n",
       "12                         Auntie Anne's  722515   \n",
       "13                              AutoZone  441310   \n",
       "14                       Avis Rent A Car  532111   \n",
       "\n",
       "                                         top_category  week_number  \\\n",
       "0                                      Grocery Stores           10   \n",
       "1                 Restaurants and Other Eating Places           10   \n",
       "2                                      Grocery Stores           10   \n",
       "3              Building Material and Supplies Dealers           10   \n",
       "4      Automotive Parts, Accessories, and Tire Stores           10   \n",
       "5   Agencies, Brokerages, and Other Insurance Rela...           10   \n",
       "6               Offices of Other Health Practitioners           10   \n",
       "7                                     Clothing Stores           10   \n",
       "8           Other Amusement and Recreation Industries           10   \n",
       "9                 Restaurants and Other Eating Places           10   \n",
       "10                Restaurants and Other Eating Places           10   \n",
       "11                Restaurants and Other Eating Places           10   \n",
       "12                Restaurants and Other Eating Places           10   \n",
       "13     Automotive Parts, Accessories, and Tire Stores           10   \n",
       "14            Automotive Equipment Rental and Leasing           10   \n",
       "\n",
       "    date_start  nr_POIs  cards_per_week  transactions_per_week  \\\n",
       "0   2020-03-09       28            8649                  10924   \n",
       "1   2020-03-09        8              31                     32   \n",
       "2   2020-03-09       82            4992                   5195   \n",
       "3   2020-03-09       67             590                    625   \n",
       "4   2020-03-09      108            1109                   1213   \n",
       "5   2020-03-09       23             134                    162   \n",
       "6   2020-03-09        3              93                    105   \n",
       "7   2020-03-09        2              46                     46   \n",
       "8   2020-03-09      100              15                     18   \n",
       "9   2020-03-09       54            3084                   3145   \n",
       "10  2020-03-09      175            8691                   8905   \n",
       "11  2020-03-09        6              64                     68   \n",
       "12  2020-03-09        4             588                    609   \n",
       "13  2020-03-09      153            4416                   4846   \n",
       "14  2020-03-09        3              21                     21   \n",
       "\n",
       "    total_spent_per_week  avg_distance_from_home  sd_distance_from_home  \\\n",
       "0              324452.92                    5139                   4801   \n",
       "1                 333.64                    9018                   2597   \n",
       "2              226672.35                    7815                   3814   \n",
       "3               12805.75                    6575                   4299   \n",
       "4               52326.62                    7553                   4536   \n",
       "5               22427.63                    8844                   5610   \n",
       "6               12908.05                   16748                  14506   \n",
       "7                3411.61                    8101                   4971   \n",
       "8                 877.57                    7070                   3615   \n",
       "9              111899.64                    9778                   3526   \n",
       "10             110290.97                   17969                  53982   \n",
       "11                614.89                   14008                  12460   \n",
       "12               5285.13                   98523                 106440   \n",
       "13             191812.91                    7245                   3842   \n",
       "14               2491.37                   12842                   4214   \n",
       "\n",
       "    avg_median_dwell  sd_median_dwell  sum_visit_counts  \n",
       "0                 10               10              1492  \n",
       "1                 20                5               235  \n",
       "2                 19                3             14474  \n",
       "3                 16               11              3214  \n",
       "4                 20               20              4223  \n",
       "5                105              223               475  \n",
       "6                 20               12                41  \n",
       "7                 19                8               113  \n",
       "8                 43               12             10046  \n",
       "9                 47                6              9329  \n",
       "10                13               18             16672  \n",
       "11               100               37              4988  \n",
       "12                15                9               507  \n",
       "13                14               10              7975  \n",
       "14                22               13                23  "
      ]
     },
     "execution_count": 332,
     "metadata": {},
     "output_type": "execute_result"
    }
   ],
   "source": [
    "# Check if data can be properly loaded\n",
    "\n",
    "os.environ['GOOGLE_APPLICATION_CREDENTIALS'] ='bigquery_key.json'\n",
    "bigquery_client = bigquery.Client(project='ironhacks-covid19-data')\n",
    "bigquery_client = bigquery.Client()\n",
    "\n",
    "QUERY = \"\"\"\n",
    "\n",
    "SELECT *\n",
    "FROM ironhacks-covid19-data.ironhacks_covid19_competition.predictionset_covid19_phase1\n",
    "\n",
    "\"\"\"\n",
    "\n",
    "query_job = bigquery_client.query(QUERY)\n",
    "data = query_job.to_dataframe()\n",
    "data.head(15)"
   ]
  },
  {
   "cell_type": "code",
   "execution_count": 263,
   "metadata": {},
   "outputs": [],
   "source": [
    "# Parse relevant values for later convenience\n",
    "\n",
    "# Data points to predict from\n",
    "nr_pois = pandas.DataFrame(data, columns = ['nr_POIs'])\n",
    "cards_per_week = pandas.DataFrame(data, columns = ['cards_per_week'])\n",
    "transactions_per_week = pandas.DataFrame(data, columns = ['transactions_per_week'])\n",
    "total_spent_per_week = pandas.DataFrame(data, columns = ['total_spent_per_week'])\n",
    "avg_distance_from_home = pandas.DataFrame(data, columns = ['avg_distance_from_home'])\n",
    "sd_distance_from_home = pandas.DataFrame(data, columns = ['sd_distance_from_home'])\n",
    "avg_median_dwell = pandas.DataFrame(data, columns = ['avg_median_dwell'])\n",
    "sd_median_dwell = pandas.DataFrame(data, columns = ['sd_median_dwell'])\n",
    "\n",
    "# Data point to predict\n",
    "sum_visit_counts = pandas.DataFrame(data, columns = ['sum_visit_counts'])\n"
   ]
  },
  {
   "cell_type": "code",
   "execution_count": 251,
   "metadata": {},
   "outputs": [],
   "source": [
    "# Begin visualizing the relationships between each predictor and the data point to predict\n",
    "\n",
    "import matplotlib.pyplot as plt"
   ]
  },
  {
   "cell_type": "code",
   "execution_count": 13,
   "metadata": {},
   "outputs": [
    {
     "data": {
      "image/png": "[encoded data removed]",
      "text/plain": [
       "<Figure size 432x288 with 1 Axes>"
      ]
     },
     "metadata": {
      "needs_background": "light"
     },
     "output_type": "display_data"
    }
   ],
   "source": [
    "data.plot(kind='scatter', x='nr_POIs', y='sum_visit_counts', color='red')\n",
    "plt.show()"
   ]
  },
  {
   "cell_type": "code",
   "execution_count": 14,
   "metadata": {},
   "outputs": [
    {
     "data": {
      "image/png": "[encoded data removed]",
      "text/plain": [
       "<Figure size 432x288 with 1 Axes>"
      ]
     },
     "metadata": {
      "needs_background": "light"
     },
     "output_type": "display_data"
    }
   ],
   "source": [
    "data.plot(kind='scatter', x='cards_per_week', y='sum_visit_counts', color='red')\n",
    "plt.show()"
   ]
  },
  {
   "cell_type": "code",
   "execution_count": 15,
   "metadata": {},
   "outputs": [
    {
     "data": {
      "image/png": "[encoded data removed]",
      "text/plain": [
       "<Figure size 432x288 with 1 Axes>"
      ]
     },
     "metadata": {
      "needs_background": "light"
     },
     "output_type": "display_data"
    }
   ],
   "source": [
    "data.plot(kind='scatter', x='transactions_per_week', y='sum_visit_counts', color='red')\n",
    "plt.show()"
   ]
  },
  {
   "cell_type": "code",
   "execution_count": 16,
   "metadata": {},
   "outputs": [
    {
     "data": {
      "image/png": "[encoded data removed]",
      "text/plain": [
       "<Figure size 432x288 with 1 Axes>"
      ]
     },
     "metadata": {
      "needs_background": "light"
     },
     "output_type": "display_data"
    }
   ],
   "source": [
    "data.plot(kind='scatter', x='total_spent_per_week', y='sum_visit_counts', color='red')\n",
    "plt.show()"
   ]
  },
  {
   "cell_type": "code",
   "execution_count": 22,
   "metadata": {},
   "outputs": [
    {
     "data": {
      "image/png": "[encoded data removed]",
      "text/plain": [
       "<Figure size 432x288 with 1 Axes>"
      ]
     },
     "metadata": {
      "needs_background": "light"
     },
     "output_type": "display_data"
    }
   ],
   "source": [
    "data.plot(kind='scatter', x='avg_distance_from_home', y='sum_visit_counts', color='red')\n",
    "plt.show()"
   ]
  },
  {
   "cell_type": "code",
   "execution_count": 18,
   "metadata": {},
   "outputs": [
    {
     "data": {
      "image/png": "[encoded data removed]",
      "text/plain": [
       "<Figure size 432x288 with 1 Axes>"
      ]
     },
     "metadata": {
      "needs_background": "light"
     },
     "output_type": "display_data"
    }
   ],
   "source": [
    "data.plot(kind='scatter', x='sd_distance_from_home', y='sum_visit_counts', color='red')\n",
    "plt.show()"
   ]
  },
  {
   "cell_type": "code",
   "execution_count": 19,
   "metadata": {},
   "outputs": [
    {
     "data": {
      "image/png": "[encoded data removed]",
      "text/plain": [
       "<Figure size 432x288 with 1 Axes>"
      ]
     },
     "metadata": {
      "needs_background": "light"
     },
     "output_type": "display_data"
    }
   ],
   "source": [
    "data.plot(kind='scatter', x='avg_median_dwell', y='sum_visit_counts', color='red')\n",
    "plt.show()"
   ]
  },
  {
   "cell_type": "code",
   "execution_count": 72,
   "metadata": {},
   "outputs": [
    {
     "data": {
      "image/png": "[encoded data removed]",
      "text/plain": [
       "<Figure size 432x288 with 1 Axes>"
      ]
     },
     "metadata": {
      "needs_background": "light"
     },
     "output_type": "display_data"
    }
   ],
   "source": [
    "data.plot(kind='scatter', x='sd_median_dwell', y='sum_visit_counts', color='red')\n",
    "plt.show()"
   ]
  },
  {
   "cell_type": "markdown",
   "metadata": {},
   "source": [
    "Visualization shows the following relationships between the various data points against sum_visit_counts.\n",
    "\n",
    "nr_pois: Unclear  \n",
    "cards_per_week: Linear  \n",
    "transactions_per_week = Linear  \n",
    "total_spent_per_week = Polynomial  \n",
    "avg_distance_from_home = Polynomial  \n",
    "sd_distance_from_home = Polynomial  \n",
    "avg_median_dwell = Polynomial  \n",
    "sd_median_dwell = Polynomial  \n",
    "\n",
    "Thus, I will first attempt a simple polynomial regression model before trying out more complicated approaches."
   ]
  },
  {
   "cell_type": "code",
   "execution_count": 252,
   "metadata": {},
   "outputs": [
    {
     "name": "stdout",
     "output_type": "stream",
     "text": [
      "Linear Regression MSE:  16171776.299745338\n",
      "Polynomial Regression MSE:  13574986.913383825\n"
     ]
    }
   ],
   "source": [
    "X = pandas.concat([nr_pois, cards_per_week, transactions_per_week, total_spent_per_week, avg_distance_from_home, sd_distance_from_home, avg_median_dwell, sd_median_dwell], axis=1)\n",
    "y = sum_visit_counts\n",
    "\n",
    "from sklearn.model_selection import train_test_split\n",
    "X_train, X_test, y_train, y_test = train_test_split(X, y, test_size = 0.2, random_state = 4)\n",
    "\n",
    "# I will also implement a linear regression model for comparison with the polynomial model\n",
    "from sklearn.linear_model import LinearRegression\n",
    "lin_reg = LinearRegression()\n",
    "lin_reg.fit(X_train, y_train)\n",
    "\n",
    "# The polynomial regression model\n",
    "from sklearn.preprocessing import PolynomialFeatures\n",
    "poly_reg = PolynomialFeatures(degree = 2)\n",
    "X_train_poly = poly_reg.fit_transform(X_train)\n",
    "pol_reg = LinearRegression()\n",
    "pol_reg.fit(X_train_poly, y_train)\n",
    "\n",
    "# Calculate MSE of the linear and polynomial approaches on the test set. I should find the polynomial approach to be better.\n",
    "from sklearn.metrics import mean_squared_error\n",
    "lin_mse = mean_squared_error(y_test, lin_reg.predict(X_test))\n",
    "poly_mse = mean_squared_error(y_test, pol_reg.predict(PolynomialFeatures(degree = 2).fit_transform(X_test)))\n",
    "print('Linear Regression MSE: ', lin_mse)\n",
    "print('Polynomial Regression MSE: ', poly_mse)\n"
   ]
  },
  {
   "cell_type": "markdown",
   "metadata": {},
   "source": [
    "It seems that the polynomial regression model (with a degree of 2) is slightly better than the linear regression model, as predicted. I will introduce a small change to the polynomial model to see if it yields improvement: that of removing nr_pois from X since its relationship with y during our visualization was unclear."
   ]
  },
  {
   "cell_type": "code",
   "execution_count": 253,
   "metadata": {},
   "outputs": [
    {
     "name": "stdout",
     "output_type": "stream",
     "text": [
      "Polynomial Regression (Revised) MSE:  8460794.498809543\n"
     ]
    }
   ],
   "source": [
    "X_revised = pandas.concat([cards_per_week, transactions_per_week, total_spent_per_week, avg_distance_from_home, sd_distance_from_home, avg_median_dwell, sd_median_dwell], axis=1)\n",
    "X_revised_train, X_revised_test, y_train, y_test = train_test_split(X_revised, y, test_size = 0.2, random_state = 2)\n",
    "\n",
    "X_revised_train_poly = poly_reg.fit_transform(X_revised_train)\n",
    "pol_reg = LinearRegression()\n",
    "pol_reg.fit(X_revised_train_poly, y_train)\n",
    "\n",
    "poly_revised_mse = mean_squared_error(y_test, pol_reg.predict(PolynomialFeatures(degree = 2).fit_transform(X_revised_test)))\n",
    "print('Polynomial Regression (Revised) MSE: ', poly_revised_mse)"
   ]
  },
  {
   "cell_type": "markdown",
   "metadata": {},
   "source": [
    "This slight revision of the predictor X values did very little to improve the performance of the model. However, the slight improvement from the polynomial over the linear model has shown that more complexity in the model would do well to improve perfomance. MSE for the polynomial model remains high, I suspect, due to the relationships between data points not generalizing well to a solely quadratic or exponential relationship. I will attempt a neural network model approach to see if it achieves better results than the polynomial model. "
   ]
  },
  {
   "cell_type": "code",
   "execution_count": 126,
   "metadata": {},
   "outputs": [],
   "source": [
    "from sklearn.neural_network import MLPRegressor\n",
    "\n",
    "# resplit just as a reminder\n",
    "X_train, X_test, y_train, y_test = train_test_split(X, y, test_size = 0.2, random_state = 2)\n",
    "y_train, y_test = y_train.values.ravel(), y_test.values.ravel()\n",
    "\n",
    "# normalize input data (feature scaling)\n",
    "from sklearn.preprocessing import MinMaxScaler\n",
    "scaler = MinMaxScaler(feature_range = (-1, 1)).fit(X_train)\n",
    "X_train = scaler.transform(X_train)\n",
    "X_test = scaler.transform(X_test)"
   ]
  },
  {
   "cell_type": "markdown",
   "metadata": {},
   "source": [
    "I will now begin testing with different neural network architectures to see which gives the best results. The two criterias I will use for this are the cross-validation scores and test scores."
   ]
  },
  {
   "cell_type": "code",
   "execution_count": 127,
   "metadata": {},
   "outputs": [
    {
     "name": "stderr",
     "output_type": "stream",
     "text": [
      "/opt/conda/lib/python3.7/site-packages/sklearn/neural_network/_multilayer_perceptron.py:571: ConvergenceWarning: Stochastic Optimizer: Maximum iterations (200) reached and the optimization hasn't converged yet.\n",
      "  % self.max_iter, ConvergenceWarning)\n",
      "/opt/conda/lib/python3.7/site-packages/sklearn/neural_network/_multilayer_perceptron.py:571: ConvergenceWarning: Stochastic Optimizer: Maximum iterations (200) reached and the optimization hasn't converged yet.\n",
      "  % self.max_iter, ConvergenceWarning)\n",
      "/opt/conda/lib/python3.7/site-packages/sklearn/neural_network/_multilayer_perceptron.py:571: ConvergenceWarning: Stochastic Optimizer: Maximum iterations (200) reached and the optimization hasn't converged yet.\n",
      "  % self.max_iter, ConvergenceWarning)\n",
      "/opt/conda/lib/python3.7/site-packages/sklearn/neural_network/_multilayer_perceptron.py:571: ConvergenceWarning: Stochastic Optimizer: Maximum iterations (200) reached and the optimization hasn't converged yet.\n",
      "  % self.max_iter, ConvergenceWarning)\n",
      "/opt/conda/lib/python3.7/site-packages/sklearn/neural_network/_multilayer_perceptron.py:571: ConvergenceWarning: Stochastic Optimizer: Maximum iterations (200) reached and the optimization hasn't converged yet.\n",
      "  % self.max_iter, ConvergenceWarning)\n",
      "/opt/conda/lib/python3.7/site-packages/sklearn/neural_network/_multilayer_perceptron.py:571: ConvergenceWarning: Stochastic Optimizer: Maximum iterations (200) reached and the optimization hasn't converged yet.\n",
      "  % self.max_iter, ConvergenceWarning)\n",
      "/opt/conda/lib/python3.7/site-packages/sklearn/neural_network/_multilayer_perceptron.py:571: ConvergenceWarning: Stochastic Optimizer: Maximum iterations (200) reached and the optimization hasn't converged yet.\n",
      "  % self.max_iter, ConvergenceWarning)\n",
      "/opt/conda/lib/python3.7/site-packages/sklearn/neural_network/_multilayer_perceptron.py:571: ConvergenceWarning: Stochastic Optimizer: Maximum iterations (200) reached and the optimization hasn't converged yet.\n",
      "  % self.max_iter, ConvergenceWarning)\n",
      "/opt/conda/lib/python3.7/site-packages/sklearn/neural_network/_multilayer_perceptron.py:571: ConvergenceWarning: Stochastic Optimizer: Maximum iterations (200) reached and the optimization hasn't converged yet.\n",
      "  % self.max_iter, ConvergenceWarning)\n",
      "/opt/conda/lib/python3.7/site-packages/sklearn/neural_network/_multilayer_perceptron.py:571: ConvergenceWarning: Stochastic Optimizer: Maximum iterations (200) reached and the optimization hasn't converged yet.\n",
      "  % self.max_iter, ConvergenceWarning)\n"
     ]
    },
    {
     "name": "stdout",
     "output_type": "stream",
     "text": [
      "CV Accuracy Score: -0.037\n",
      "Test Accuracy Score: -0.022\n"
     ]
    },
    {
     "name": "stderr",
     "output_type": "stream",
     "text": [
      "/opt/conda/lib/python3.7/site-packages/sklearn/neural_network/_multilayer_perceptron.py:571: ConvergenceWarning: Stochastic Optimizer: Maximum iterations (200) reached and the optimization hasn't converged yet.\n",
      "  % self.max_iter, ConvergenceWarning)\n"
     ]
    }
   ],
   "source": [
    "# initialize neural network (hidden layer size: (100, ))\n",
    "neural_network = MLPRegressor(hidden_layer_sizes = (100, ), activation = 'relu', solver = 'adam', max_iter = 200)\n",
    "\n",
    "from sklearn.model_selection import cross_val_score\n",
    "cv_score = cross_val_score(neural_network, X_train, y_train, cv = 10)\n",
    "test_score = neural_network.fit(X_train, y_train).score(X_test, y_test)\n",
    "print('CV Accuracy Score: %0.3f' % np.mean(cv_score))\n",
    "print('Test Accuracy Score: %0.3f' % test_score)"
   ]
  },
  {
   "cell_type": "code",
   "execution_count": 128,
   "metadata": {},
   "outputs": [
    {
     "name": "stderr",
     "output_type": "stream",
     "text": [
      "/opt/conda/lib/python3.7/site-packages/sklearn/neural_network/_multilayer_perceptron.py:571: ConvergenceWarning: Stochastic Optimizer: Maximum iterations (200) reached and the optimization hasn't converged yet.\n",
      "  % self.max_iter, ConvergenceWarning)\n",
      "/opt/conda/lib/python3.7/site-packages/sklearn/neural_network/_multilayer_perceptron.py:571: ConvergenceWarning: Stochastic Optimizer: Maximum iterations (200) reached and the optimization hasn't converged yet.\n",
      "  % self.max_iter, ConvergenceWarning)\n",
      "/opt/conda/lib/python3.7/site-packages/sklearn/neural_network/_multilayer_perceptron.py:571: ConvergenceWarning: Stochastic Optimizer: Maximum iterations (200) reached and the optimization hasn't converged yet.\n",
      "  % self.max_iter, ConvergenceWarning)\n",
      "/opt/conda/lib/python3.7/site-packages/sklearn/neural_network/_multilayer_perceptron.py:571: ConvergenceWarning: Stochastic Optimizer: Maximum iterations (200) reached and the optimization hasn't converged yet.\n",
      "  % self.max_iter, ConvergenceWarning)\n",
      "/opt/conda/lib/python3.7/site-packages/sklearn/neural_network/_multilayer_perceptron.py:571: ConvergenceWarning: Stochastic Optimizer: Maximum iterations (200) reached and the optimization hasn't converged yet.\n",
      "  % self.max_iter, ConvergenceWarning)\n",
      "/opt/conda/lib/python3.7/site-packages/sklearn/neural_network/_multilayer_perceptron.py:571: ConvergenceWarning: Stochastic Optimizer: Maximum iterations (200) reached and the optimization hasn't converged yet.\n",
      "  % self.max_iter, ConvergenceWarning)\n",
      "/opt/conda/lib/python3.7/site-packages/sklearn/neural_network/_multilayer_perceptron.py:571: ConvergenceWarning: Stochastic Optimizer: Maximum iterations (200) reached and the optimization hasn't converged yet.\n",
      "  % self.max_iter, ConvergenceWarning)\n",
      "/opt/conda/lib/python3.7/site-packages/sklearn/neural_network/_multilayer_perceptron.py:571: ConvergenceWarning: Stochastic Optimizer: Maximum iterations (200) reached and the optimization hasn't converged yet.\n",
      "  % self.max_iter, ConvergenceWarning)\n",
      "/opt/conda/lib/python3.7/site-packages/sklearn/neural_network/_multilayer_perceptron.py:571: ConvergenceWarning: Stochastic Optimizer: Maximum iterations (200) reached and the optimization hasn't converged yet.\n",
      "  % self.max_iter, ConvergenceWarning)\n",
      "/opt/conda/lib/python3.7/site-packages/sklearn/neural_network/_multilayer_perceptron.py:571: ConvergenceWarning: Stochastic Optimizer: Maximum iterations (200) reached and the optimization hasn't converged yet.\n",
      "  % self.max_iter, ConvergenceWarning)\n"
     ]
    },
    {
     "name": "stdout",
     "output_type": "stream",
     "text": [
      "CV Accuracy Score: 0.018\n",
      "Test Accuracy Score: 0.039\n"
     ]
    },
    {
     "name": "stderr",
     "output_type": "stream",
     "text": [
      "/opt/conda/lib/python3.7/site-packages/sklearn/neural_network/_multilayer_perceptron.py:571: ConvergenceWarning: Stochastic Optimizer: Maximum iterations (200) reached and the optimization hasn't converged yet.\n",
      "  % self.max_iter, ConvergenceWarning)\n"
     ]
    }
   ],
   "source": [
    "# initialize neural network (hidden layer size: (512, ))\n",
    "neural_network = MLPRegressor(hidden_layer_sizes = (512, ), activation = 'relu', solver = 'adam', max_iter = 200)\n",
    "\n",
    "from sklearn.model_selection import cross_val_score\n",
    "cv_score = cross_val_score(neural_network, X_train, y_train, cv = 10)\n",
    "test_score = neural_network.fit(X_train, y_train).score(X_test, y_test)\n",
    "print('CV Accuracy Score: %0.3f' % np.mean(cv_score))\n",
    "print('Test Accuracy Score: %0.3f' % test_score)"
   ]
  },
  {
   "cell_type": "code",
   "execution_count": 129,
   "metadata": {},
   "outputs": [
    {
     "name": "stderr",
     "output_type": "stream",
     "text": [
      "/opt/conda/lib/python3.7/site-packages/sklearn/neural_network/_multilayer_perceptron.py:571: ConvergenceWarning: Stochastic Optimizer: Maximum iterations (200) reached and the optimization hasn't converged yet.\n",
      "  % self.max_iter, ConvergenceWarning)\n",
      "/opt/conda/lib/python3.7/site-packages/sklearn/neural_network/_multilayer_perceptron.py:571: ConvergenceWarning: Stochastic Optimizer: Maximum iterations (200) reached and the optimization hasn't converged yet.\n",
      "  % self.max_iter, ConvergenceWarning)\n",
      "/opt/conda/lib/python3.7/site-packages/sklearn/neural_network/_multilayer_perceptron.py:571: ConvergenceWarning: Stochastic Optimizer: Maximum iterations (200) reached and the optimization hasn't converged yet.\n",
      "  % self.max_iter, ConvergenceWarning)\n",
      "/opt/conda/lib/python3.7/site-packages/sklearn/neural_network/_multilayer_perceptron.py:571: ConvergenceWarning: Stochastic Optimizer: Maximum iterations (200) reached and the optimization hasn't converged yet.\n",
      "  % self.max_iter, ConvergenceWarning)\n",
      "/opt/conda/lib/python3.7/site-packages/sklearn/neural_network/_multilayer_perceptron.py:571: ConvergenceWarning: Stochastic Optimizer: Maximum iterations (200) reached and the optimization hasn't converged yet.\n",
      "  % self.max_iter, ConvergenceWarning)\n",
      "/opt/conda/lib/python3.7/site-packages/sklearn/neural_network/_multilayer_perceptron.py:571: ConvergenceWarning: Stochastic Optimizer: Maximum iterations (200) reached and the optimization hasn't converged yet.\n",
      "  % self.max_iter, ConvergenceWarning)\n",
      "/opt/conda/lib/python3.7/site-packages/sklearn/neural_network/_multilayer_perceptron.py:571: ConvergenceWarning: Stochastic Optimizer: Maximum iterations (200) reached and the optimization hasn't converged yet.\n",
      "  % self.max_iter, ConvergenceWarning)\n",
      "/opt/conda/lib/python3.7/site-packages/sklearn/neural_network/_multilayer_perceptron.py:571: ConvergenceWarning: Stochastic Optimizer: Maximum iterations (200) reached and the optimization hasn't converged yet.\n",
      "  % self.max_iter, ConvergenceWarning)\n",
      "/opt/conda/lib/python3.7/site-packages/sklearn/neural_network/_multilayer_perceptron.py:571: ConvergenceWarning: Stochastic Optimizer: Maximum iterations (200) reached and the optimization hasn't converged yet.\n",
      "  % self.max_iter, ConvergenceWarning)\n"
     ]
    },
    {
     "name": "stdout",
     "output_type": "stream",
     "text": [
      "CV Accuracy Score: 0.766\n",
      "Test Accuracy Score: 0.784\n"
     ]
    },
    {
     "name": "stderr",
     "output_type": "stream",
     "text": [
      "/opt/conda/lib/python3.7/site-packages/sklearn/neural_network/_multilayer_perceptron.py:571: ConvergenceWarning: Stochastic Optimizer: Maximum iterations (200) reached and the optimization hasn't converged yet.\n",
      "  % self.max_iter, ConvergenceWarning)\n"
     ]
    }
   ],
   "source": [
    "# initialize neural network (hidden layer size: (512, 512, ))\n",
    "neural_network = MLPRegressor(hidden_layer_sizes = (512, 512, ), activation = 'relu', solver = 'adam', max_iter = 200)\n",
    "\n",
    "from sklearn.model_selection import cross_val_score\n",
    "cv_score = cross_val_score(neural_network, X_train, y_train, cv = 10)\n",
    "test_score = neural_network.fit(X_train, y_train).score(X_test, y_test)\n",
    "print('CV Accuracy Score: %0.3f' % np.mean(cv_score))\n",
    "print('Test Accuracy Score: %0.3f' % test_score)"
   ]
  },
  {
   "cell_type": "markdown",
   "metadata": {},
   "source": [
    "Here, we can see that increasing the hidden layer numbers from 1 to 2 significantly increased quality. Despite the improvements, the neural network model is not converging. Right now, I do not know the reason why and will leave this problem for another time."
   ]
  },
  {
   "cell_type": "code",
   "execution_count": 130,
   "metadata": {},
   "outputs": [
    {
     "name": "stderr",
     "output_type": "stream",
     "text": [
      "/opt/conda/lib/python3.7/site-packages/sklearn/neural_network/_multilayer_perceptron.py:571: ConvergenceWarning: Stochastic Optimizer: Maximum iterations (200) reached and the optimization hasn't converged yet.\n",
      "  % self.max_iter, ConvergenceWarning)\n",
      "/opt/conda/lib/python3.7/site-packages/sklearn/neural_network/_multilayer_perceptron.py:571: ConvergenceWarning: Stochastic Optimizer: Maximum iterations (200) reached and the optimization hasn't converged yet.\n",
      "  % self.max_iter, ConvergenceWarning)\n",
      "/opt/conda/lib/python3.7/site-packages/sklearn/neural_network/_multilayer_perceptron.py:571: ConvergenceWarning: Stochastic Optimizer: Maximum iterations (200) reached and the optimization hasn't converged yet.\n",
      "  % self.max_iter, ConvergenceWarning)\n"
     ]
    },
    {
     "name": "stdout",
     "output_type": "stream",
     "text": [
      "CV Accuracy Score: 0.785\n",
      "Test Accuracy Score: 0.802\n"
     ]
    }
   ],
   "source": [
    "# initialize neural network (hidden layer size: (512, 512, 256))\n",
    "neural_network = MLPRegressor(hidden_layer_sizes = (512, 512, 256, ), activation = 'relu', solver = 'adam', max_iter = 200)\n",
    "\n",
    "from sklearn.model_selection import cross_val_score\n",
    "cv_score = cross_val_score(neural_network, X_train, y_train, cv = 10)\n",
    "test_score = neural_network.fit(X_train, y_train).score(X_test, y_test)\n",
    "print('CV Accuracy Score: %0.3f' % np.mean(cv_score))\n",
    "print('Test Accuracy Score: %0.3f' % test_score)"
   ]
  },
  {
   "cell_type": "code",
   "execution_count": 131,
   "metadata": {},
   "outputs": [
    {
     "name": "stderr",
     "output_type": "stream",
     "text": [
      "/opt/conda/lib/python3.7/site-packages/sklearn/neural_network/_multilayer_perceptron.py:571: ConvergenceWarning: Stochastic Optimizer: Maximum iterations (200) reached and the optimization hasn't converged yet.\n",
      "  % self.max_iter, ConvergenceWarning)\n",
      "/opt/conda/lib/python3.7/site-packages/sklearn/neural_network/_multilayer_perceptron.py:571: ConvergenceWarning: Stochastic Optimizer: Maximum iterations (200) reached and the optimization hasn't converged yet.\n",
      "  % self.max_iter, ConvergenceWarning)\n",
      "/opt/conda/lib/python3.7/site-packages/sklearn/neural_network/_multilayer_perceptron.py:571: ConvergenceWarning: Stochastic Optimizer: Maximum iterations (200) reached and the optimization hasn't converged yet.\n",
      "  % self.max_iter, ConvergenceWarning)\n",
      "/opt/conda/lib/python3.7/site-packages/sklearn/neural_network/_multilayer_perceptron.py:571: ConvergenceWarning: Stochastic Optimizer: Maximum iterations (200) reached and the optimization hasn't converged yet.\n",
      "  % self.max_iter, ConvergenceWarning)\n",
      "/opt/conda/lib/python3.7/site-packages/sklearn/neural_network/_multilayer_perceptron.py:571: ConvergenceWarning: Stochastic Optimizer: Maximum iterations (200) reached and the optimization hasn't converged yet.\n",
      "  % self.max_iter, ConvergenceWarning)\n",
      "/opt/conda/lib/python3.7/site-packages/sklearn/neural_network/_multilayer_perceptron.py:571: ConvergenceWarning: Stochastic Optimizer: Maximum iterations (200) reached and the optimization hasn't converged yet.\n",
      "  % self.max_iter, ConvergenceWarning)\n",
      "/opt/conda/lib/python3.7/site-packages/sklearn/neural_network/_multilayer_perceptron.py:571: ConvergenceWarning: Stochastic Optimizer: Maximum iterations (200) reached and the optimization hasn't converged yet.\n",
      "  % self.max_iter, ConvergenceWarning)\n",
      "/opt/conda/lib/python3.7/site-packages/sklearn/neural_network/_multilayer_perceptron.py:571: ConvergenceWarning: Stochastic Optimizer: Maximum iterations (200) reached and the optimization hasn't converged yet.\n",
      "  % self.max_iter, ConvergenceWarning)\n",
      "/opt/conda/lib/python3.7/site-packages/sklearn/neural_network/_multilayer_perceptron.py:571: ConvergenceWarning: Stochastic Optimizer: Maximum iterations (200) reached and the optimization hasn't converged yet.\n",
      "  % self.max_iter, ConvergenceWarning)\n",
      "/opt/conda/lib/python3.7/site-packages/sklearn/neural_network/_multilayer_perceptron.py:571: ConvergenceWarning: Stochastic Optimizer: Maximum iterations (200) reached and the optimization hasn't converged yet.\n",
      "  % self.max_iter, ConvergenceWarning)\n"
     ]
    },
    {
     "name": "stdout",
     "output_type": "stream",
     "text": [
      "CV Accuracy Score: 0.669\n",
      "Test Accuracy Score: 0.769\n"
     ]
    },
    {
     "name": "stderr",
     "output_type": "stream",
     "text": [
      "/opt/conda/lib/python3.7/site-packages/sklearn/neural_network/_multilayer_perceptron.py:571: ConvergenceWarning: Stochastic Optimizer: Maximum iterations (200) reached and the optimization hasn't converged yet.\n",
      "  % self.max_iter, ConvergenceWarning)\n"
     ]
    }
   ],
   "source": [
    "# initialize neural network (hidden layer size: (100, 100, ))\n",
    "neural_network = MLPRegressor(hidden_layer_sizes = (100, 100, ), activation = 'relu', solver = 'adam', max_iter = 200)\n",
    "\n",
    "from sklearn.model_selection import cross_val_score\n",
    "cv_score = cross_val_score(neural_network, X_train, y_train, cv = 10)\n",
    "test_score = neural_network.fit(X_train, y_train).score(X_test, y_test)\n",
    "print('CV Accuracy Score: %0.3f' % np.mean(cv_score))\n",
    "print('Test Accuracy Score: %0.3f' % test_score)"
   ]
  },
  {
   "cell_type": "code",
   "execution_count": 132,
   "metadata": {},
   "outputs": [
    {
     "name": "stderr",
     "output_type": "stream",
     "text": [
      "/opt/conda/lib/python3.7/site-packages/sklearn/neural_network/_multilayer_perceptron.py:571: ConvergenceWarning: Stochastic Optimizer: Maximum iterations (200) reached and the optimization hasn't converged yet.\n",
      "  % self.max_iter, ConvergenceWarning)\n",
      "/opt/conda/lib/python3.7/site-packages/sklearn/neural_network/_multilayer_perceptron.py:571: ConvergenceWarning: Stochastic Optimizer: Maximum iterations (200) reached and the optimization hasn't converged yet.\n",
      "  % self.max_iter, ConvergenceWarning)\n",
      "/opt/conda/lib/python3.7/site-packages/sklearn/neural_network/_multilayer_perceptron.py:571: ConvergenceWarning: Stochastic Optimizer: Maximum iterations (200) reached and the optimization hasn't converged yet.\n",
      "  % self.max_iter, ConvergenceWarning)\n",
      "/opt/conda/lib/python3.7/site-packages/sklearn/neural_network/_multilayer_perceptron.py:571: ConvergenceWarning: Stochastic Optimizer: Maximum iterations (200) reached and the optimization hasn't converged yet.\n",
      "  % self.max_iter, ConvergenceWarning)\n",
      "/opt/conda/lib/python3.7/site-packages/sklearn/neural_network/_multilayer_perceptron.py:571: ConvergenceWarning: Stochastic Optimizer: Maximum iterations (200) reached and the optimization hasn't converged yet.\n",
      "  % self.max_iter, ConvergenceWarning)\n",
      "/opt/conda/lib/python3.7/site-packages/sklearn/neural_network/_multilayer_perceptron.py:571: ConvergenceWarning: Stochastic Optimizer: Maximum iterations (200) reached and the optimization hasn't converged yet.\n",
      "  % self.max_iter, ConvergenceWarning)\n",
      "/opt/conda/lib/python3.7/site-packages/sklearn/neural_network/_multilayer_perceptron.py:571: ConvergenceWarning: Stochastic Optimizer: Maximum iterations (200) reached and the optimization hasn't converged yet.\n",
      "  % self.max_iter, ConvergenceWarning)\n",
      "/opt/conda/lib/python3.7/site-packages/sklearn/neural_network/_multilayer_perceptron.py:571: ConvergenceWarning: Stochastic Optimizer: Maximum iterations (200) reached and the optimization hasn't converged yet.\n",
      "  % self.max_iter, ConvergenceWarning)\n"
     ]
    },
    {
     "name": "stdout",
     "output_type": "stream",
     "text": [
      "CV Accuracy Score: 0.783\n",
      "Test Accuracy Score: 0.803\n"
     ]
    },
    {
     "name": "stderr",
     "output_type": "stream",
     "text": [
      "/opt/conda/lib/python3.7/site-packages/sklearn/neural_network/_multilayer_perceptron.py:571: ConvergenceWarning: Stochastic Optimizer: Maximum iterations (200) reached and the optimization hasn't converged yet.\n",
      "  % self.max_iter, ConvergenceWarning)\n"
     ]
    }
   ],
   "source": [
    "# initialize neural network (hidden layer size: (128, 128, 128, ))\n",
    "neural_network = MLPRegressor(hidden_layer_sizes = (128, 128, 128, ), activation = 'relu', solver = 'adam', max_iter = 200)\n",
    "\n",
    "from sklearn.model_selection import cross_val_score\n",
    "cv_score = cross_val_score(neural_network, X_train, y_train, cv = 10)\n",
    "test_score = neural_network.fit(X_train, y_train).score(X_test, y_test)\n",
    "print('CV Accuracy Score: %0.3f' % np.mean(cv_score))\n",
    "print('Test Accuracy Score: %0.3f' % test_score)"
   ]
  },
  {
   "cell_type": "markdown",
   "metadata": {},
   "source": [
    "It seems that rather than the number of neurons per layer, it is the number of layers that shows the most significant results."
   ]
  },
  {
   "cell_type": "code",
   "execution_count": 133,
   "metadata": {},
   "outputs": [
    {
     "name": "stderr",
     "output_type": "stream",
     "text": [
      "/opt/conda/lib/python3.7/site-packages/sklearn/neural_network/_multilayer_perceptron.py:571: ConvergenceWarning: Stochastic Optimizer: Maximum iterations (200) reached and the optimization hasn't converged yet.\n",
      "  % self.max_iter, ConvergenceWarning)\n"
     ]
    },
    {
     "name": "stdout",
     "output_type": "stream",
     "text": [
      "CV Accuracy Score: 0.774\n",
      "Test Accuracy Score: 0.811\n"
     ]
    }
   ],
   "source": [
    "# initialize neural network (hidden layer size: (128, 128, 128, 128, ))\n",
    "neural_network = MLPRegressor(hidden_layer_sizes = (128, 128, 128, 128, ), activation = 'relu', solver = 'adam', max_iter = 200)\n",
    "\n",
    "from sklearn.model_selection import cross_val_score\n",
    "cv_score = cross_val_score(neural_network, X_train, y_train, cv = 10)\n",
    "test_score = neural_network.fit(X_train, y_train).score(X_test, y_test)\n",
    "print('CV Accuracy Score: %0.3f' % np.mean(cv_score))\n",
    "print('Test Accuracy Score: %0.3f' % test_score)"
   ]
  },
  {
   "cell_type": "markdown",
   "metadata": {},
   "source": [
    "Above, I tried a neural network with 4 hidden layers to see whether there would be room for extra improvements. It seems to cap out at 3 layers however. I think a hidden layer size of (256, 256, 256, ) would provide the perfect balance between quality and training time. "
   ]
  },
  {
   "cell_type": "code",
   "execution_count": 134,
   "metadata": {},
   "outputs": [
    {
     "name": "stderr",
     "output_type": "stream",
     "text": [
      "/opt/conda/lib/python3.7/site-packages/sklearn/neural_network/_multilayer_perceptron.py:571: ConvergenceWarning: Stochastic Optimizer: Maximum iterations (200) reached and the optimization hasn't converged yet.\n",
      "  % self.max_iter, ConvergenceWarning)\n",
      "/opt/conda/lib/python3.7/site-packages/sklearn/neural_network/_multilayer_perceptron.py:571: ConvergenceWarning: Stochastic Optimizer: Maximum iterations (200) reached and the optimization hasn't converged yet.\n",
      "  % self.max_iter, ConvergenceWarning)\n",
      "/opt/conda/lib/python3.7/site-packages/sklearn/neural_network/_multilayer_perceptron.py:571: ConvergenceWarning: Stochastic Optimizer: Maximum iterations (200) reached and the optimization hasn't converged yet.\n",
      "  % self.max_iter, ConvergenceWarning)\n",
      "/opt/conda/lib/python3.7/site-packages/sklearn/neural_network/_multilayer_perceptron.py:571: ConvergenceWarning: Stochastic Optimizer: Maximum iterations (200) reached and the optimization hasn't converged yet.\n",
      "  % self.max_iter, ConvergenceWarning)\n"
     ]
    },
    {
     "name": "stdout",
     "output_type": "stream",
     "text": [
      "CV Accuracy Score: 0.778\n",
      "Test Accuracy Score: 0.807\n"
     ]
    },
    {
     "name": "stderr",
     "output_type": "stream",
     "text": [
      "/opt/conda/lib/python3.7/site-packages/sklearn/neural_network/_multilayer_perceptron.py:571: ConvergenceWarning: Stochastic Optimizer: Maximum iterations (200) reached and the optimization hasn't converged yet.\n",
      "  % self.max_iter, ConvergenceWarning)\n"
     ]
    }
   ],
   "source": [
    "# initialize neural network (hidden layer size: (256, 256, 256, ))\n",
    "neural_network = MLPRegressor(hidden_layer_sizes = (256, 256, 256, ), activation = 'relu', solver = 'adam', max_iter = 200)\n",
    "\n",
    "from sklearn.model_selection import cross_val_score\n",
    "cv_score = cross_val_score(neural_network, X_train, y_train, cv = 10)\n",
    "test_score = neural_network.fit(X_train, y_train).score(X_test, y_test)\n",
    "print('CV Accuracy Score: %0.3f' % np.mean(cv_score))\n",
    "print('Test Accuracy Score: %0.3f' % test_score)"
   ]
  },
  {
   "cell_type": "markdown",
   "metadata": {},
   "source": [
    "Below is a simple experiment to see whether increasing the maximum number of iterations would help. "
   ]
  },
  {
   "cell_type": "code",
   "execution_count": 135,
   "metadata": {},
   "outputs": [
    {
     "name": "stdout",
     "output_type": "stream",
     "text": [
      "CV Accuracy Score: 0.775\n",
      "Test Accuracy Score: 0.807\n"
     ]
    },
    {
     "name": "stderr",
     "output_type": "stream",
     "text": [
      "/opt/conda/lib/python3.7/site-packages/sklearn/neural_network/_multilayer_perceptron.py:571: ConvergenceWarning: Stochastic Optimizer: Maximum iterations (500) reached and the optimization hasn't converged yet.\n",
      "  % self.max_iter, ConvergenceWarning)\n"
     ]
    }
   ],
   "source": [
    "# initialize neural network (hidden layer size: (256, 256, 256, ), max_iter: 500)\n",
    "neural_network = MLPRegressor(hidden_layer_sizes = (256, 256, 256, ), activation = 'relu', solver = 'adam', max_iter = 500)\n",
    "\n",
    "from sklearn.model_selection import cross_val_score\n",
    "cv_score = cross_val_score(neural_network, X_train, y_train, cv = 10)\n",
    "test_score = neural_network.fit(X_train, y_train).score(X_test, y_test)\n",
    "print('CV Accuracy Score: %0.3f' % np.mean(cv_score))\n",
    "print('Test Accuracy Score: %0.3f' % test_score)"
   ]
  },
  {
   "cell_type": "code",
   "execution_count": 136,
   "metadata": {},
   "outputs": [
    {
     "name": "stdout",
     "output_type": "stream",
     "text": [
      "CV Accuracy Score: 0.775\n",
      "Test Accuracy Score: 0.805\n"
     ]
    }
   ],
   "source": [
    "# initialize neural network (hidden layer size: (256, 256, 256, 256, ), max_iter: 500)\n",
    "neural_network = MLPRegressor(hidden_layer_sizes = (256, 256, 256, 256, ), activation = 'relu', solver = 'adam', max_iter = 500)\n",
    "\n",
    "from sklearn.model_selection import cross_val_score\n",
    "cv_score = cross_val_score(neural_network, X_train, y_train, cv = 10)\n",
    "test_score = neural_network.fit(X_train, y_train).score(X_test, y_test)\n",
    "print('CV Accuracy Score: %0.3f' % np.mean(cv_score))\n",
    "print('Test Accuracy Score: %0.3f' % test_score)"
   ]
  },
  {
   "cell_type": "markdown",
   "metadata": {},
   "source": [
    "Increasing the max number of iterations also slightly improved performance, and it did seem to get rid of the error messages claiming the optimization has not converged yet. This can only be a good thing - so for the final model, I will keep max_iter at 500. I will now compare the MSE scores of the neural network approach to the previous linear and polynomial regression models."
   ]
  },
  {
   "cell_type": "code",
   "execution_count": 151,
   "metadata": {},
   "outputs": [
    {
     "name": "stdout",
     "output_type": "stream",
     "text": [
      "Linear Regression MSE: 2.038225e+07\n",
      "Polynomial Regression MSE: 1.385593e+07\n",
      "Neural Network MSE: 2.129308e+07\n"
     ]
    }
   ],
   "source": [
    "X_train, X_test, y_train, y_test = train_test_split(X, y, test_size = 0.2, random_state = 231)\n",
    "\n",
    "lin_reg = LinearRegression()\n",
    "lin_reg.fit(X_train, y_train)\n",
    "lin_mse = mean_squared_error(y_test, lin_reg.predict(X_test))\n",
    "\n",
    "# The polynomial regression model\n",
    "from sklearn.preprocessing import PolynomialFeatures\n",
    "poly_reg = PolynomialFeatures(degree = 2)\n",
    "X_train_poly = poly_reg.fit_transform(X_train)\n",
    "pol_reg = LinearRegression()\n",
    "pol_reg.fit(X_train_poly, y_train)\n",
    "poly_mse = mean_squared_error(y_test, pol_reg.predict(PolynomialFeatures(degree = 2).fit_transform(X_test)))\n",
    "\n",
    "# normalize input data (feature scaling)\n",
    "scaler = MinMaxScaler(feature_range = (-1, 1)).fit(X_train)\n",
    "X_train = scaler.transform(X_train)\n",
    "X_test = scaler.transform(X_test)\n",
    "y_train, y_test = y_train.values.ravel(), y_test.values.ravel()\n",
    "# the neural network model\n",
    "neural_network = MLPRegressor(hidden_layer_sizes = (256, 256, 256, ), activation = 'relu', solver = 'adam', max_iter = 500)\n",
    "neural_network.fit(X_train, y_train)\n",
    "nn_mse = mean_squared_error(y_test, neural_network.predict(X_test))\n",
    "\n",
    "print('Linear Regression MSE: {:e}'.format(lin_mse))\n",
    "print('Polynomial Regression MSE: {:e}'.format(poly_mse))\n",
    "print('Neural Network MSE: {:e}'.format(nn_mse))\n",
    "\n"
   ]
  },
  {
   "cell_type": "markdown",
   "metadata": {},
   "source": [
    "The neural network approach seems to be slightly worse than the polynomial regression model and equal in performance to the linear regression model. Better improvement, at this point, will probably come from careful curation of the data input points and carefully deciding which values to use rather than dedicating more power to training a model. For the first submission deadline, I will as such stick to using the polynomial regression model.\n",
    "\n",
    "Now that I have decided on which model to use, it is time to start predicting the sum_visit_counts values for week 18.\n",
    "\n",
    "My predictive model is dependent on knowing the 8 predictive data points. For week 18, I will simply use a brute force approach to calculate plausible values for those 8 predictive points by using the mean value of the previous 7 weeks. In future submissions, I will probably use a complicated model such as ARIMA to predict time series data."
   ]
  },
  {
   "cell_type": "code",
   "execution_count": 161,
   "metadata": {},
   "outputs": [
    {
     "data": {
      "text/html": [
       "<div>\n",
       "<style scoped>\n",
       "    .dataframe tbody tr th:only-of-type {\n",
       "        vertical-align: middle;\n",
       "    }\n",
       "\n",
       "    .dataframe tbody tr th {\n",
       "        vertical-align: top;\n",
       "    }\n",
       "\n",
       "    .dataframe thead th {\n",
       "        text-align: right;\n",
       "    }\n",
       "</style>\n",
       "<table border=\"1\" class=\"dataframe\">\n",
       "  <thead>\n",
       "    <tr style=\"text-align: right;\">\n",
       "      <th></th>\n",
       "      <th>nr_POIs</th>\n",
       "      <th>cards_per_week</th>\n",
       "      <th>transactions_per_week</th>\n",
       "      <th>total_spent_per_week</th>\n",
       "      <th>avg_distance_from_home</th>\n",
       "      <th>sd_distance_from_home</th>\n",
       "      <th>avg_median_dwell</th>\n",
       "      <th>sd_median_dwell</th>\n",
       "      <th>sum_visit_counts</th>\n",
       "    </tr>\n",
       "  </thead>\n",
       "  <tbody>\n",
       "    <tr>\n",
       "      <th>0</th>\n",
       "      <td>28</td>\n",
       "      <td>8649</td>\n",
       "      <td>10924</td>\n",
       "      <td>324452.92</td>\n",
       "      <td>5139</td>\n",
       "      <td>4801</td>\n",
       "      <td>10</td>\n",
       "      <td>10</td>\n",
       "      <td>1492</td>\n",
       "    </tr>\n",
       "    <tr>\n",
       "      <th>1</th>\n",
       "      <td>8</td>\n",
       "      <td>31</td>\n",
       "      <td>32</td>\n",
       "      <td>333.64</td>\n",
       "      <td>9018</td>\n",
       "      <td>2597</td>\n",
       "      <td>20</td>\n",
       "      <td>5</td>\n",
       "      <td>235</td>\n",
       "    </tr>\n",
       "    <tr>\n",
       "      <th>2</th>\n",
       "      <td>82</td>\n",
       "      <td>4992</td>\n",
       "      <td>5195</td>\n",
       "      <td>226672.35</td>\n",
       "      <td>7815</td>\n",
       "      <td>3814</td>\n",
       "      <td>19</td>\n",
       "      <td>3</td>\n",
       "      <td>14474</td>\n",
       "    </tr>\n",
       "    <tr>\n",
       "      <th>3</th>\n",
       "      <td>67</td>\n",
       "      <td>590</td>\n",
       "      <td>625</td>\n",
       "      <td>12805.75</td>\n",
       "      <td>6575</td>\n",
       "      <td>4299</td>\n",
       "      <td>16</td>\n",
       "      <td>11</td>\n",
       "      <td>3214</td>\n",
       "    </tr>\n",
       "    <tr>\n",
       "      <th>4</th>\n",
       "      <td>108</td>\n",
       "      <td>1109</td>\n",
       "      <td>1213</td>\n",
       "      <td>52326.62</td>\n",
       "      <td>7553</td>\n",
       "      <td>4536</td>\n",
       "      <td>20</td>\n",
       "      <td>20</td>\n",
       "      <td>4223</td>\n",
       "    </tr>\n",
       "  </tbody>\n",
       "</table>\n",
       "</div>"
      ],
      "text/plain": [
       "   nr_POIs  cards_per_week  transactions_per_week  total_spent_per_week  \\\n",
       "0       28            8649                  10924             324452.92   \n",
       "1        8              31                     32                333.64   \n",
       "2       82            4992                   5195             226672.35   \n",
       "3       67             590                    625              12805.75   \n",
       "4      108            1109                   1213              52326.62   \n",
       "\n",
       "   avg_distance_from_home  sd_distance_from_home  avg_median_dwell  \\\n",
       "0                    5139                   4801                10   \n",
       "1                    9018                   2597                20   \n",
       "2                    7815                   3814                19   \n",
       "3                    6575                   4299                16   \n",
       "4                    7553                   4536                20   \n",
       "\n",
       "   sd_median_dwell  sum_visit_counts  \n",
       "0               10              1492  \n",
       "1                5               235  \n",
       "2                3             14474  \n",
       "3               11              3214  \n",
       "4               20              4223  "
      ]
     },
     "execution_count": 161,
     "metadata": {},
     "output_type": "execute_result"
    }
   ],
   "source": [
    "# Copy is reused from previous cells to have entire logic in this space\n",
    "\n",
    "# Gather the 8 relevant data points and the value to predict from weeks 10 to 17\n",
    "os.environ['GOOGLE_APPLICATION_CREDENTIALS'] ='bigquery_key.json'\n",
    "bigquery_client = bigquery.Client(project='ironhacks-covid19-data')\n",
    "\n",
    "QUERY = \"\"\"\n",
    "\n",
    "SELECT nr_POIs, cards_per_week, transactions_per_week, total_spent_per_week, avg_distance_from_home, sd_distance_from_home, avg_median_dwell, sd_median_dwell, sum_visit_counts\n",
    "FROM ironhacks-covid19-data.ironhacks_covid19_competition.predictionset_covid19_phase1\n",
    "\n",
    "\"\"\"\n",
    "\n",
    "query_job = bigquery_client.query(QUERY)\n",
    "data = query_job.to_dataframe()"
   ]
  },
  {
   "cell_type": "code",
   "execution_count": 299,
   "metadata": {},
   "outputs": [],
   "source": [
    "# Data points to predict from\n",
    "nr_pois = pandas.DataFrame(data, columns = ['nr_POIs'])\n",
    "cards_per_week = pandas.DataFrame(data, columns = ['cards_per_week'])\n",
    "transactions_per_week = pandas.DataFrame(data, columns = ['transactions_per_week'])\n",
    "total_spent_per_week = pandas.DataFrame(data, columns = ['total_spent_per_week'])\n",
    "avg_distance_from_home = pandas.DataFrame(data, columns = ['avg_distance_from_home'])\n",
    "sd_distance_from_home = pandas.DataFrame(data, columns = ['sd_distance_from_home'])\n",
    "avg_median_dwell = pandas.DataFrame(data, columns = ['avg_median_dwell'])\n",
    "sd_median_dwell = pandas.DataFrame(data, columns = ['sd_median_dwell'])\n",
    "\n",
    "# Data point to predict\n",
    "sum_visit_counts = pandas.DataFrame(data, columns = ['sum_visit_counts'])\n",
    "\n",
    "X = pandas.concat([nr_pois, cards_per_week, transactions_per_week, total_spent_per_week, avg_distance_from_home, sd_distance_from_home, avg_median_dwell, sd_median_dwell], axis=1)\n",
    "y = sum_visit_counts"
   ]
  },
  {
   "cell_type": "code",
   "execution_count": 306,
   "metadata": {},
   "outputs": [
    {
     "data": {
      "text/plain": [
       "LinearRegression(copy_X=True, fit_intercept=True, n_jobs=None, normalize=False)"
      ]
     },
     "execution_count": 306,
     "metadata": {},
     "output_type": "execute_result"
    }
   ],
   "source": [
    "# Begin training my polynomial regression model from the entirety of weeks 10 to 17\n",
    "poly_reg = PolynomialFeatures(degree = 2)\n",
    "X_poly = poly_reg.fit_transform(X)\n",
    "poly_reg = LinearRegression()\n",
    "poly_reg.fit(X_poly, y)"
   ]
  },
  {
   "cell_type": "code",
   "execution_count": 301,
   "metadata": {},
   "outputs": [],
   "source": [
    "# Get the list of uuids to predict for week 18\n",
    "QUERY = \"\"\"\n",
    "\n",
    "SELECT uuid\n",
    "FROM ironhacks-covid19-data.ironhacks_covid19_competition.predictionset_covid19_phase1\n",
    "\n",
    "\"\"\"\n",
    "query_job = bigquery_client.query(QUERY)\n",
    "uuids = query_job.to_dataframe()\n",
    "entries = pandas.concat([uuids, X], axis=1)\n",
    "entries = entries.values\n"
   ]
  },
  {
   "cell_type": "code",
   "execution_count": 329,
   "metadata": {},
   "outputs": [],
   "source": [
    "# For each of the 304 uuids, begin calculating the mean of their predictor data points over weeks 10-17\n",
    "unique_uuids = np.unique(uuids)\n",
    "assert(len(unique_uuids == 304))\n",
    "\n",
    "# submission to write to disk\n",
    "submission = \"UUID,week_number,sum_visit_counts\\n\"\n",
    "\n",
    "list_of_predictors = []\n",
    "\n",
    "for uuid in unique_uuids:\n",
    "    # mean value of predictors for all 304 brands\n",
    "    mean_nr_pois = []\n",
    "    mean_cards_per_week = []\n",
    "    mean_transactions_per_week = []\n",
    "    mean_total_spent_per_week = []\n",
    "    mean_avg_distance_from_home =[]\n",
    "    mean_sd_distance_from_home = []\n",
    "    mean_avg_median_dwell = []\n",
    "    mean_sd_median_dwell = []\n",
    "    \n",
    "    for entry in entries:\n",
    "        if uuid == entry[0]:\n",
    "            mean_nr_pois.append(entry[1])\n",
    "            mean_cards_per_week.append(entry[2])\n",
    "            mean_transactions_per_week.append(entry[3])\n",
    "            mean_total_spent_per_week.append(entry[4])\n",
    "            mean_avg_distance_from_home.append(entry[5])\n",
    "            mean_sd_distance_from_home.append(entry[6])\n",
    "            mean_avg_median_dwell.append(entry[7])\n",
    "            mean_sd_median_dwell.append(entry[8])\n",
    "    \n",
    "    mean_nr_pois = np.mean(mean_nr_pois)\n",
    "    mean_cards_per_week = np.mean(mean_cards_per_week)\n",
    "    mean_transactions_per_week = np.mean(mean_transactions_per_week)\n",
    "    mean_total_spent_per_week = np.mean(mean_total_spent_per_week)\n",
    "    mean_avg_distance_from_home = np.mean(mean_avg_distance_from_home)\n",
    "    mean_sd_distance_from_home = np.mean(mean_sd_distance_from_home)\n",
    "    mean_avg_median_dwell = np.mean(mean_avg_median_dwell)\n",
    "    mean_sd_median_dwell = np.mean(mean_sd_median_dwell)\n",
    "    \n",
    "    predictors = [mean_nr_pois, mean_cards_per_week, mean_transactions_per_week, mean_total_spent_per_week, mean_avg_distance_from_home, mean_sd_distance_from_home, mean_avg_median_dwell, mean_sd_median_dwell]\n",
    "    list_of_predictors.append(predictors)\n",
    "        \n",
    "list_of_predictors = PolynomialFeatures(degree=2).fit_transform(list_of_predictors)\n",
    "sum_visit_counts_list = poly_reg.predict(list_of_predictors)\n",
    "# adjust sum_visit_counts_list by rounding them to integers and setting their values to 0 if value is negative\n",
    "sum_visit_counts_list = np.concatenate([value for value in sum_visit_counts_list])\n",
    "sum_visit_counts_list = np.around(sum_visit_counts_list)\n",
    "indexes = sum_visit_counts_list < 0\n",
    "sum_visit_counts_list[indexes] = 0\n",
    "\n",
    "# Begin writing the submission to csv format\n",
    "for i in range(len(unique_uuids)):\n",
    "    submission += \"%s,%d,%d\\n\" % (unique_uuids[i], 18, sum_visit_counts_list[i])            "
   ]
  },
  {
   "cell_type": "code",
   "execution_count": 331,
   "metadata": {},
   "outputs": [],
   "source": [
    "# Save the csv submission to disk\n",
    "with open('submission_prediction_output.csv', 'w') as submit_csv_f:\n",
    "    submit_csv_f.write(submission)"
   ]
  },
  {
   "cell_type": "code",
   "execution_count": null,
   "metadata": {},
   "outputs": [],
   "source": []
  }
 ],
 "metadata": {
  "kernelspec": {
   "display_name": "Python 3",
   "language": "python",
   "name": "python3"
  },
  "language_info": {
   "codemirror_mode": {
    "name": "ipython",
    "version": 3
   },
   "file_extension": ".py",
   "mimetype": "text/x-python",
   "name": "python",
   "nbconvert_exporter": "python",
   "pygments_lexer": "ipython3",
   "version": "3.7.6"
  }
 },
 "nbformat": 4,
 "nbformat_minor": 4
}
